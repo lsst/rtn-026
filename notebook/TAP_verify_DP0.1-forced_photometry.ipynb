{
 "cells": [
  {
   "cell_type": "markdown",
   "metadata": {},
   "source": [
    "# TAP_verify_DP0.1-forced_photometry\n",
    "\n",
    "<br>Owner: **Douglas Tucker** ([@douglasleetucker](https://github.com/LSSTScienceCollaborations/StackClub/issues/new?body=@douglasleetucker))\n",
    "<br>Updated for DC2 by:   Douglas Tucker  following in part work for DESC by Yao-Yuan Mao (@yymao) and Johann Cohen-Tanugi (@johannct)\n",
    "<br>Last Verified to Run: **2021-08-23**\n",
    "<br>Verified Stack Release: **w_2021_25**\n",
    "\n",
    "### Objectives\n",
    "\n",
    "This notebook is meant to run tests of the basic content of DP0.1 TAPserver `force_photometry` table in the `dp01_dc2_catalogs` schema on the IDF.\n",
    "\n",
    "### Logistics\n",
    "\n",
    "This notebook is intended to be runnable on `data.lsst.cloud` from a local git clone of https://github.com/LSSTScienceCollaborations/StackClub.\n"
   ]
  },
  {
   "cell_type": "code",
   "execution_count": 1,
   "metadata": {},
   "outputs": [],
   "source": [
    "# https://jira.lsstcorp.org/browse/PREOPS-473\n",
    "# \n",
    "# create a separate notebook \"for general consumption\" (with more notes).\n",
    "# More important now than comparing against parquet files.\n",
    "# \"Here's a description of what the DB looks like. -- a good product to hand off.\"\n",
    "# Maybe do some of this within the SQL query:  can SQL test for NaN's?\"\n",
    "# Point towards the data, not so much the DB mechanics.\n",
    "# Cols:  max, min, 1%, 99%\n",
    "# qserv has a data return limit of 5GB; so beware!"
   ]
  },
  {
   "cell_type": "markdown",
   "metadata": {},
   "source": [
    "### Set Up"
   ]
  },
  {
   "cell_type": "code",
   "execution_count": 2,
   "metadata": {},
   "outputs": [],
   "source": [
    "# Import general python packages\n",
    "import numpy as np\n",
    "import pandas as pd\n",
    "import os\n",
    "import time\n",
    "from datetime import datetime\n",
    "import gc\n",
    "import seaborn as sns\n",
    "import matplotlib.pyplot as plt"
   ]
  },
  {
   "cell_type": "code",
   "execution_count": 3,
   "metadata": {},
   "outputs": [],
   "source": [
    "# Ignore warnings\n",
    "import warnings\n",
    "warnings.filterwarnings('ignore')"
   ]
  },
  {
   "cell_type": "code",
   "execution_count": 4,
   "metadata": {},
   "outputs": [],
   "source": [
    "# Useful class to stop \"Run All\" at a cell \n",
    "#  containing the command \"raise StopExecution\"\n",
    "class StopExecution(Exception):\n",
    "    def _render_traceback_(self):\n",
    "        pass"
   ]
  },
  {
   "cell_type": "code",
   "execution_count": 5,
   "metadata": {},
   "outputs": [
    {
     "name": "stderr",
     "output_type": "stream",
     "text": [
      "Patching auth into notebook.base.handlers.IPythonHandler(notebook.base.handlers.AuthenticatedHandler) -> IPythonHandler(jupyterhub.singleuser.mixins.HubAuthenticatedHandler, notebook.base.handlers.AuthenticatedHandler)\n"
     ]
    }
   ],
   "source": [
    "# Import the Rubin TAP service utilities\n",
    "from rubin_jupyter_utils.lab.notebook import get_tap_service, retrieve_query, get_catalog\n",
    "\n",
    "# Get an instance of the TAP service\n",
    "service = get_tap_service()\n",
    "assert service is not None\n",
    "assert service.baseurl == \"https://data.lsst.cloud/api/tap\""
   ]
  },
  {
   "cell_type": "markdown",
   "metadata": {},
   "source": [
    "### User Input"
   ]
  },
  {
   "cell_type": "code",
   "execution_count": 6,
   "metadata": {},
   "outputs": [],
   "source": [
    "# Which table are we interested in for this notebook?\n",
    "schema_name = 'dp01_dc2_catalogs'\n",
    "table_name = 'forced_photometry'\n",
    "table_full_name = \"\"\"%s.%s\"\"\" % (schema_name, table_name)\n",
    "\n",
    "# Output directory and output file basename info\n",
    "outputDir = '/home/douglasleetucker/WORK'\n",
    "baseName = 'TAP_verify_DP01'\n",
    "\n",
    "# Debug option for quick results for testing purposes:\n",
    "#    True:  only runs over a few tracts of data\n",
    "#    False:  runs over all tracts available\n",
    "debug = True\n",
    "\n",
    "# Do query step (e.g., if this very long step hasn't already been run before)?\n",
    "do_query_step = True\n",
    "\n",
    "# Do analysis step (e.g., if this long step hasn't already been run before?)\n",
    "do_analysis_step = False\n",
    "\n",
    "# Do plotting step (e.g., if this step hasn't already been run before?)\n",
    "do_plotting_step = False\n",
    "\n",
    "# Do final cleanup?\n",
    "do_final_cleanup = False\n",
    "\n",
    "# Level of output to screen (0, 1, 2, ...)\n",
    "verbose = 2"
   ]
  },
  {
   "cell_type": "markdown",
   "metadata": {},
   "source": [
    "### Useful Modules"
   ]
  },
  {
   "cell_type": "code",
   "execution_count": 7,
   "metadata": {},
   "outputs": [],
   "source": [
    "# # # # # # # # # # # # # # # # # # # #\n",
    "# Plotting module...                  #\n",
    "# # # # # # # # # # # # # # # # # # # #\n",
    "\n",
    "def makeTractSanityPlots(df, column_name, table_full_name, outputFileName, nbins=50):\n",
    "\n",
    "    # \n",
    "    # Define binning parameters for the different plots\n",
    "    # \n",
    "\n",
    "    # values\n",
    "    alist = []\n",
    "    alist.extend(list(df[df['column']==column_name]['1%'].values))\n",
    "    alist.extend(list(df[df['column']==column_name]['50%'].values))\n",
    "    alist.extend(list(df[df['column']==column_name]['99%'].values))\n",
    "    val_range = max(alist) - min(alist)\n",
    "    val_min = min(alist) - 0.10*val_range\n",
    "    val_max = max(alist) + 0.10*val_range\n",
    "    val_nbins = nbins\n",
    "    delta_val = (val_max - val_min)/val_nbins\n",
    "    val_bins = np.arange(val_min, val_max, delta_val)\n",
    "    if verbose> 2:  print(val_bins)\n",
    "\n",
    "    # numbers\n",
    "    alist = []\n",
    "    alist.extend(list(df[df['column']==column_name]['n_nan'].values))\n",
    "    alist.extend(list(df[df['column']==column_name]['n_tot'].values))\n",
    "    num_range = max(alist) - min(alist)\n",
    "    num_min = 0\n",
    "    num_max = max(alist) + 0.10*val_range\n",
    "    num_nbins = nbins\n",
    "    delta_num = (num_max - num_min)/num_nbins\n",
    "    num_bins = np.arange(num_min, num_max, delta_num)\n",
    "    if verbose> 2:  print(num_bins)\n",
    "\n",
    "    # fractions\n",
    "    frac_min = 0.00\n",
    "    frac_max = 1.00\n",
    "    frac_nbins = nbins\n",
    "    delta_frac = (frac_max - frac_min)/frac_nbins\n",
    "    frac_bins = np.arange(frac_min, frac_max, delta_frac)\n",
    "    if verbose> 2:  print(frac_bins)\n",
    "        \n",
    "    #\n",
    "    # Plot plots...\n",
    "    #\n",
    "\n",
    "    fig = plt.figure(figsize=(20,10))\n",
    "\n",
    "    fig.subplots_adjust(hspace=0.5)\n",
    "    supTitle = \"\"\"Tract-Level Diagnostics\\nTable:  %s\\nColumn:  %s\"\"\" % (table_full_name, column_name) \n",
    "    fig.suptitle(supTitle)\n",
    "    plt.rcParams.update({'font.size': 14})\n",
    "\n",
    "    plt.subplot(322)\n",
    "    values = (df[df['column']==column_name]['1%']).values\n",
    "    ax = plt.hist(values, bins=val_bins)\n",
    "    plt.title(\"quantile: 1%\", x=0.50, y =0.80)\n",
    "    plt.xlabel(column_name)\n",
    "    plt.ylabel('# Tracts')\n",
    "    plt.grid(True)\n",
    "    plt.grid(color='grey')\n",
    "\n",
    "    plt.subplot(324)\n",
    "    values = (df[df['column']==column_name]['50%']).values\n",
    "    ax = plt.hist(values, bins=val_bins)\n",
    "    plt.title(\"quantile: 50%\", x=0.50, y =0.80)\n",
    "    plt.xlabel(column_name)\n",
    "    plt.ylabel('# Tracts')\n",
    "    plt.grid(True)\n",
    "    plt.grid(color='grey')\n",
    "\n",
    "    plt.subplot(326) \n",
    "    values = (df[df['column']==column_name]['99%']).values\n",
    "    ax = plt.hist(values, bins=val_bins)\n",
    "    plt.title(\"quantile: 99%\", x=0.50, y =0.80)\n",
    "    plt.xlabel(column_name)\n",
    "    plt.ylabel('# Tracts')\n",
    "    plt.grid(True)\n",
    "    plt.grid(color='grey')\n",
    "\n",
    "    plt.subplot(321) \n",
    "    values = (df[df['column']==column_name]['n_nan']).values\n",
    "    ax = plt.hist(values, bins=num_bins)\n",
    "    plt.title(\"N_nan\", x=0.50, y =0.80)\n",
    "    plt.xlabel('n_nan')\n",
    "    plt.ylabel('# Tracts')\n",
    "    plt.grid(True)\n",
    "    plt.grid(color='grey')\n",
    "\n",
    "    plt.subplot(323) \n",
    "    values = (df[df['column']==column_name]['n_tot']).values\n",
    "    ax = plt.hist(values, bins=num_bins)\n",
    "    plt.title(\"N_tot\", x=0.50, y =0.80)\n",
    "    plt.xlabel('n_tot')\n",
    "    plt.ylabel('# Tracts')\n",
    "    plt.grid(True)\n",
    "    plt.grid(color='grey')\n",
    "\n",
    "    plt.subplot(325) \n",
    "    values = (df[df['column']==column_name]['f_nan']).values\n",
    "    ax = plt.hist(values, bins=frac_bins)\n",
    "    plt.title(\"Frac_nan\", x=0.50, y =0.80)\n",
    "    plt.xlabel('Fraction of NaNs')\n",
    "    plt.ylabel('# Tracts')\n",
    "    plt.grid(True)\n",
    "    plt.grid(color='grey')\n",
    "    \n",
    "    # Plot...\n",
    "    plt.tight_layout()\n",
    "    #plt.show()\n",
    "    plt.savefig(outputFileName)\n",
    "\n",
    "\n",
    "    return 0"
   ]
  },
  {
   "cell_type": "markdown",
   "metadata": {},
   "source": [
    "### Basic Tests"
   ]
  },
  {
   "cell_type": "markdown",
   "metadata": {},
   "source": [
    "Since some of the following queries take time, let's measure how long it takes to complete each query cell.  We will use `%%time` to estimate processor and wall clock time, and `datetime.now()` to estimate the total time to send the query and download its results."
   ]
  },
  {
   "cell_type": "code",
   "execution_count": 8,
   "metadata": {},
   "outputs": [
    {
     "name": "stdout",
     "output_type": "stream",
     "text": [
      "     dp01_dc2_catalogs.forced_photometry:  147088445\n",
      "Total time: 0:02:31.328297\n",
      "CPU times: user 16.2 ms, sys: 730 µs, total: 17 ms\n",
      "Wall time: 2min 31s\n"
     ]
    }
   ],
   "source": [
    "%%time\n",
    "now0=datetime.now()\n",
    "    \n",
    "query = \"\"\"SELECT COUNT(*) FROM %s\"\"\" % (table_full_name)\n",
    "results = service.search(query)\n",
    "df = results.to_table().to_pandas()\n",
    "ntot = df['COUNT'].loc[0]\n",
    "outputLine = \"\"\"%40s:  %d\"\"\" % (table_full_name, ntot)\n",
    "print(outputLine)\n",
    "\n",
    "now1=datetime.now()\n",
    "print(\"Total time:\", now1-now0)"
   ]
  },
  {
   "cell_type": "markdown",
   "metadata": {},
   "source": [
    "Let's see what `tracts` are available in the `dp01_dc2_catalogs.truth_match` table."
   ]
  },
  {
   "cell_type": "code",
   "execution_count": 9,
   "metadata": {},
   "outputs": [],
   "source": [
    "#%%time\n",
    "#now0=datetime.now()\n",
    "#\n",
    "## `tract` is not a column in forced_photometry;\n",
    "##   so we nee to be a little tricky...\n",
    "#query = \"\"\"SELECT DISTINCT obj.tract \n",
    "#           FROM %s.object as obj\n",
    "#           JOIN %s as x\n",
    "#           ON obj.objectId = x.objectId  \n",
    "#           ORDER BY obj.tract\"\"\" % \\\n",
    "#        (schema_name, table_full_name)\n",
    "#\n",
    "#print(query)\n",
    "#\n",
    "#results = service.search(query)\n",
    "#\n",
    "#df = results.to_table().to_pandas()\n",
    "#tract_list = df['tract'].tolist()\n",
    "#\n",
    "#now1=datetime.now()\n",
    "#print(\"Total time:\", now1-now0)\n",
    "#\n",
    "#print(tract_list)"
   ]
  },
  {
   "cell_type": "code",
   "execution_count": 10,
   "metadata": {},
   "outputs": [
    {
     "name": "stdout",
     "output_type": "stream",
     "text": [
      "SELECT DISTINCT obj.tract, obj.patch \n",
      "           FROM dp01_dc2_catalogs.object as obj\n",
      "           JOIN dp01_dc2_catalogs.forced_photometry as x\n",
      "           ON obj.objectId = x.objectId  \n",
      "           ORDER BY obj.tract, obj.patch\n",
      "Total time: 0:03:19.990227\n",
      "[2723, 2724, 2725, 2726, 2727, 2728, 2729, 2730, 2731, 2732, 2733, 2734, 2735, 2896, 2897, 2898, 2899, 2900, 2901, 2902, 2903, 2904, 2905, 2906, 2907, 2908, 3074, 3075, 3076, 3077, 3078, 3079, 3080, 3081, 3082, 3083, 3084, 3085, 3086, 3256, 3257, 3258, 3259, 3260, 3261, 3262, 3263, 3264, 3265, 3266, 3267, 3268, 3441, 3442, 3443, 3444, 3445, 3446, 3447, 3448, 3449, 3450, 3451, 3452, 3453, 3454, 3631, 3632, 3633, 3634, 3635, 3636, 3637, 3638, 3639, 3640, 3641, 3642, 3643, 3825, 3826, 3827, 3828, 3829, 3830, 3831, 3832, 3833, 3834, 3835, 3836, 3837, 4022, 4023, 4024, 4025, 4026, 4027, 4028, 4029, 4030, 4031, 4032, 4033, 4034, 4035, 4224, 4225, 4226, 4227, 4228, 4229, 4230, 4231, 4232, 4233, 4234, 4235, 4236, 4429, 4430, 4431, 4432, 4433, 4434, 4435, 4436, 4437, 4438, 4439, 4440, 4441, 4636, 4637, 4638, 4639, 4640, 4641, 4642, 4643, 4644, 4645, 4646, 4647, 4648, 4850, 4851, 4852, 4853, 4854, 4855, 4856, 4857, 4858, 4859, 4860, 5065, 5066, 5067, 5068, 5069, 5070, 5071, 5072, 5073, 5074]\n",
      "CPU times: user 56.9 ms, sys: 1.16 ms, total: 58.1 ms\n",
      "Wall time: 3min 19s\n"
     ]
    }
   ],
   "source": [
    "%%time\n",
    "now0=datetime.now()\n",
    "\n",
    "# `tract` is not a column in forced_photometry;\n",
    "#   so we need to be a little tricky...\n",
    "query = \"\"\"SELECT DISTINCT obj.tract, obj.patch \n",
    "           FROM %s.object as obj\n",
    "           JOIN %s as x\n",
    "           ON obj.objectId = x.objectId  \n",
    "           ORDER BY obj.tract, obj.patch\"\"\" % \\\n",
    "        (schema_name, table_full_name)\n",
    "\n",
    "print(query)\n",
    "\n",
    "results = service.search(query)\n",
    "\n",
    "df_tracts_patches = results.to_table().to_pandas()\n",
    "tract_list = df_tracts_patches['tract'].unique().tolist()\n",
    "tract_list.sort()\n",
    "\n",
    "now1=datetime.now()\n",
    "print(\"Total time:\", now1-now0)\n",
    "\n",
    "print(tract_list)"
   ]
  },
  {
   "cell_type": "code",
   "execution_count": 11,
   "metadata": {},
   "outputs": [
    {
     "data": {
      "text/html": [
       "<div>\n",
       "<style scoped>\n",
       "    .dataframe tbody tr th:only-of-type {\n",
       "        vertical-align: middle;\n",
       "    }\n",
       "\n",
       "    .dataframe tbody tr th {\n",
       "        vertical-align: top;\n",
       "    }\n",
       "\n",
       "    .dataframe thead th {\n",
       "        text-align: right;\n",
       "    }\n",
       "</style>\n",
       "<table border=\"1\" class=\"dataframe\">\n",
       "  <thead>\n",
       "    <tr style=\"text-align: right;\">\n",
       "      <th></th>\n",
       "      <th>tract</th>\n",
       "      <th>patch</th>\n",
       "    </tr>\n",
       "  </thead>\n",
       "  <tbody>\n",
       "    <tr>\n",
       "      <th>0</th>\n",
       "      <td>2723</td>\n",
       "      <td>0,6</td>\n",
       "    </tr>\n",
       "    <tr>\n",
       "      <th>1</th>\n",
       "      <td>2723</td>\n",
       "      <td>1,6</td>\n",
       "    </tr>\n",
       "    <tr>\n",
       "      <th>2</th>\n",
       "      <td>2723</td>\n",
       "      <td>2,6</td>\n",
       "    </tr>\n",
       "    <tr>\n",
       "      <th>3</th>\n",
       "      <td>2723</td>\n",
       "      <td>3,6</td>\n",
       "    </tr>\n",
       "    <tr>\n",
       "      <th>4</th>\n",
       "      <td>2723</td>\n",
       "      <td>4,6</td>\n",
       "    </tr>\n",
       "    <tr>\n",
       "      <th>5</th>\n",
       "      <td>2724</td>\n",
       "      <td>0,6</td>\n",
       "    </tr>\n",
       "    <tr>\n",
       "      <th>6</th>\n",
       "      <td>2724</td>\n",
       "      <td>1,6</td>\n",
       "    </tr>\n",
       "    <tr>\n",
       "      <th>7</th>\n",
       "      <td>2724</td>\n",
       "      <td>2,6</td>\n",
       "    </tr>\n",
       "    <tr>\n",
       "      <th>8</th>\n",
       "      <td>2724</td>\n",
       "      <td>3,6</td>\n",
       "    </tr>\n",
       "    <tr>\n",
       "      <th>9</th>\n",
       "      <td>2724</td>\n",
       "      <td>4,6</td>\n",
       "    </tr>\n",
       "  </tbody>\n",
       "</table>\n",
       "</div>"
      ],
      "text/plain": [
       "   tract patch\n",
       "0   2723   0,6\n",
       "1   2723   1,6\n",
       "2   2723   2,6\n",
       "3   2723   3,6\n",
       "4   2723   4,6\n",
       "5   2724   0,6\n",
       "6   2724   1,6\n",
       "7   2724   2,6\n",
       "8   2724   3,6\n",
       "9   2724   4,6"
      ]
     },
     "execution_count": 11,
     "metadata": {},
     "output_type": "execute_result"
    }
   ],
   "source": [
    "df_tracts_patches.head(10)"
   ]
  },
  {
   "cell_type": "markdown",
   "metadata": {},
   "source": [
    "### Detailed Tests"
   ]
  },
  {
   "cell_type": "code",
   "execution_count": 12,
   "metadata": {},
   "outputs": [
    {
     "name": "stdout",
     "output_type": "stream",
     "text": [
      "\n",
      "        SELECT obj.tract, ROUND(fp.i_base_SdssShape_xy, 1) as bin_value, COUNT(*)  \n",
      "        FROM dp01_dc2_catalogs.forced_photometry as fp  \n",
      "        JOIN dp01_dc2_catalogs.object as obj  \n",
      "        ON fp.objectId = obj.objectId  \n",
      "        GROUP BY tract, bin_value\n",
      "        ORDER BY tract, bin_value ASC\n",
      "        \n",
      "Job URL is https://data.lsst.cloud/api/tap/async/m0erkir5ge7wtj22\n",
      "Job phase is COMPLETED\n",
      "CPU times: user 73.6 ms, sys: 2.74 ms, total: 76.3 ms\n",
      "Wall time: 3min 55s\n"
     ]
    }
   ],
   "source": [
    "%%time\n",
    "\n",
    "schema_name = 'dp01_dc2_catalogs'\n",
    "table_name = 'forced_photometry'\n",
    "table_full_name = \"\"\"%s.%s\"\"\" % (schema_name, table_name)\n",
    "column = 'i_base_SdssShape_xy'\n",
    "tract = 2723\n",
    "\n",
    "# From Gaia webpage:\n",
    "#SELECT ROUND(SQRT(pmra*pmra + pmdec*pmdec), 0) AS muTot, COUNT(*)\n",
    "#FROM gaiadr1.tgas_source\n",
    "#GROUP BY muTot\n",
    "#ORDER BY muTot DESC\n",
    "\n",
    "#query = \"\"\"\n",
    "#        SELECT ROUND(fp.i_base_SdssShape_xy, 0) as bin, COUNT(*)  \n",
    "#        FROM dp01_dc2_catalogs.forced_photometry as fp  \n",
    "#        JOIN dp01_dc2_catalogs.object as obj  \n",
    "#        ON fp.objectId = obj.objectId  \n",
    "#        WHERE obj.tract=2723  \n",
    "#        GROUP BY bin\n",
    "#        ORDER BY bin ASC\n",
    "#        \"\"\"\n",
    "\n",
    "\n",
    "#query = \"\"\"\n",
    "#        SELECT MIN(fp.i_base_SdssShape_xy), MAX(fp.i_base_SdssShape_xy) \n",
    "#        FROM dp01_dc2_catalogs.forced_photometry as fp  \n",
    "#        \"\"\"\n",
    "min=-9.939587e+07  \n",
    "max=1.476328e+07\n",
    "\n",
    "\n",
    "query = \"\"\"\n",
    "        SELECT obj.tract, ROUND(fp.i_base_SdssShape_xy, 1) as bin_value, COUNT(*)  \n",
    "        FROM dp01_dc2_catalogs.forced_photometry as fp  \n",
    "        JOIN dp01_dc2_catalogs.object as obj  \n",
    "        ON fp.objectId = obj.objectId  \n",
    "        GROUP BY tract, bin_value\n",
    "        ORDER BY tract, bin_value ASC\n",
    "        \"\"\"\n",
    "\n",
    "\n",
    "#with total as (select count(*) as cnt from employee_salary)\n",
    "#select bucket, sum(cnt) over (order by bucket) / total.cnt from (\n",
    "#    select width_bucket(salary, 70000, 140000, 20) as bucket, \n",
    "#           count(*) as cnt\n",
    "#    from employee_salary\n",
    "#    group by bucket \n",
    "#    order by bucket) x;\n",
    "\n",
    "\n",
    "#query = \"\"\"\n",
    "#        SELECT x.* \n",
    "#        FROM %s as x  \n",
    "#        JOIN %s.object as obj  \n",
    "#        ON x.objectId = obj.objectId  \n",
    "#        WHERE obj.tract=%d \n",
    "#        \"\"\" % (table_full_name, schema_name, tract)\n",
    "\n",
    "print(query)\n",
    "\n",
    " # First, submit the job.  This creates it but doesn't run the query yet.\n",
    "job = service.submit_job(query)\n",
    "\n",
    "# Here's the URL representing your query.  This is what you need to retrieve\n",
    "# the data again.\n",
    "print('Job URL is', job.url)\n",
    "\n",
    "# Now run the query.\n",
    "job.run()\n",
    "\n",
    "# Here, you can tell python to wait for the job to finish if you don't want to\n",
    "# run anything else while you are waiting.  Then we print out the final state.\n",
    "job.wait(phases=['COMPLETED', 'ERROR'])\n",
    "print('Job phase is', job.phase)\n",
    "\n",
    "\n",
    "    "
   ]
  },
  {
   "cell_type": "code",
   "execution_count": 13,
   "metadata": {},
   "outputs": [
    {
     "name": "stdout",
     "output_type": "stream",
     "text": [
      "         tract  bin_value  COUNT\n",
      "0         2723        NaN      2\n",
      "1         2723     -295.5      1\n",
      "2         2723     -176.5      1\n",
      "3         2723      -34.1      1\n",
      "4         2723      -28.0      1\n",
      "...        ...        ...    ...\n",
      "3930093   5074   161580.8      1\n",
      "3930094   5074   166285.4      1\n",
      "3930095   5074   180611.8      1\n",
      "3930096   5074   225044.9      1\n",
      "3930097   5074   233338.8      1\n",
      "\n",
      "[3930098 rows x 3 columns]\n"
     ]
    }
   ],
   "source": [
    "results = job.fetch_result()\n",
    "df = results.to_table().to_pandas()\n",
    "print(df)"
   ]
  },
  {
   "cell_type": "code",
   "execution_count": 14,
   "metadata": {},
   "outputs": [
    {
     "name": "stderr",
     "output_type": "stream",
     "text": [
      "Note: NumExpr detected 32 cores but \"NUMEXPR_MAX_THREADS\" not set, so enforcing safe limit of 8.\n",
      "NumExpr defaulting to 8 threads.\n"
     ]
    },
    {
     "data": {
      "text/html": [
       "<div>\n",
       "<style scoped>\n",
       "    .dataframe tbody tr th:only-of-type {\n",
       "        vertical-align: middle;\n",
       "    }\n",
       "\n",
       "    .dataframe tbody tr th {\n",
       "        vertical-align: top;\n",
       "    }\n",
       "\n",
       "    .dataframe thead th {\n",
       "        text-align: right;\n",
       "    }\n",
       "</style>\n",
       "<table border=\"1\" class=\"dataframe\">\n",
       "  <thead>\n",
       "    <tr style=\"text-align: right;\">\n",
       "      <th></th>\n",
       "      <th>tract</th>\n",
       "      <th>bin_value</th>\n",
       "      <th>COUNT</th>\n",
       "    </tr>\n",
       "  </thead>\n",
       "  <tbody>\n",
       "    <tr>\n",
       "      <th>3909266</th>\n",
       "      <td>5074</td>\n",
       "      <td>NaN</td>\n",
       "      <td>22896</td>\n",
       "    </tr>\n",
       "    <tr>\n",
       "      <th>3909267</th>\n",
       "      <td>5074</td>\n",
       "      <td>-175549.3</td>\n",
       "      <td>1</td>\n",
       "    </tr>\n",
       "    <tr>\n",
       "      <th>3909268</th>\n",
       "      <td>5074</td>\n",
       "      <td>-165010.5</td>\n",
       "      <td>1</td>\n",
       "    </tr>\n",
       "    <tr>\n",
       "      <th>3909269</th>\n",
       "      <td>5074</td>\n",
       "      <td>-155464.1</td>\n",
       "      <td>1</td>\n",
       "    </tr>\n",
       "    <tr>\n",
       "      <th>3909270</th>\n",
       "      <td>5074</td>\n",
       "      <td>-145472.1</td>\n",
       "      <td>1</td>\n",
       "    </tr>\n",
       "    <tr>\n",
       "      <th>...</th>\n",
       "      <td>...</td>\n",
       "      <td>...</td>\n",
       "      <td>...</td>\n",
       "    </tr>\n",
       "    <tr>\n",
       "      <th>3930093</th>\n",
       "      <td>5074</td>\n",
       "      <td>161580.8</td>\n",
       "      <td>1</td>\n",
       "    </tr>\n",
       "    <tr>\n",
       "      <th>3930094</th>\n",
       "      <td>5074</td>\n",
       "      <td>166285.4</td>\n",
       "      <td>1</td>\n",
       "    </tr>\n",
       "    <tr>\n",
       "      <th>3930095</th>\n",
       "      <td>5074</td>\n",
       "      <td>180611.8</td>\n",
       "      <td>1</td>\n",
       "    </tr>\n",
       "    <tr>\n",
       "      <th>3930096</th>\n",
       "      <td>5074</td>\n",
       "      <td>225044.9</td>\n",
       "      <td>1</td>\n",
       "    </tr>\n",
       "    <tr>\n",
       "      <th>3930097</th>\n",
       "      <td>5074</td>\n",
       "      <td>233338.8</td>\n",
       "      <td>1</td>\n",
       "    </tr>\n",
       "  </tbody>\n",
       "</table>\n",
       "<p>20832 rows × 3 columns</p>\n",
       "</div>"
      ],
      "text/plain": [
       "         tract  bin_value  COUNT\n",
       "3909266   5074        NaN  22896\n",
       "3909267   5074  -175549.3      1\n",
       "3909268   5074  -165010.5      1\n",
       "3909269   5074  -155464.1      1\n",
       "3909270   5074  -145472.1      1\n",
       "...        ...        ...    ...\n",
       "3930093   5074   161580.8      1\n",
       "3930094   5074   166285.4      1\n",
       "3930095   5074   180611.8      1\n",
       "3930096   5074   225044.9      1\n",
       "3930097   5074   233338.8      1\n",
       "\n",
       "[20832 rows x 3 columns]"
      ]
     },
     "execution_count": 14,
     "metadata": {},
     "output_type": "execute_result"
    }
   ],
   "source": [
    "df[df.tract==5074]"
   ]
  },
  {
   "cell_type": "code",
   "execution_count": 15,
   "metadata": {},
   "outputs": [
    {
     "data": {
      "text/plain": [
       "(-20.0, 20.0)"
      ]
     },
     "execution_count": 15,
     "metadata": {},
     "output_type": "execute_result"
    },
    {
     "data": {
      "image/png": "[encoded data removed]",
      "text/plain": [
       "<Figure size 432x288 with 1 Axes>"
      ]
     },
     "metadata": {
      "needs_background": "light"
     },
     "output_type": "display_data"
    }
   ],
   "source": [
    "df[df.tract==5074].plot('bin_value', 'COUNT')\n",
    "plt.xlim(-20, 20)"
   ]
  },
  {
   "cell_type": "code",
   "execution_count": 16,
   "metadata": {},
   "outputs": [
    {
     "name": "stdout",
     "output_type": "stream",
     "text": [
      "[2.093000e+02 5.412500e+03 5.596150e+05 6.314685e+05 6.366677e+05]\n",
      "20831 [  209  5208 10415 15623 20622]\n",
      "20831 [-2.69005e+04 -1.06080e+03  2.90000e+00  1.09260e+03  2.83277e+04]\n",
      "67564 10385 0.0\n",
      "[1 1 1 ... 1 1 1]\n",
      "[-175549.3 -165010.5 -155464.1 ...  180611.8  225044.9  233338.8]\n",
      "97.1059142623976\n"
     ]
    },
    {
     "data": {
      "image/png": "[encoded data removed]",
      "text/plain": [
       "<Figure size 432x288 with 1 Axes>"
      ]
     },
     "metadata": {
      "needs_background": "light"
     },
     "output_type": "display_data"
    }
   ],
   "source": [
    "a = np.delete(df[df.tract==5074].COUNT.values,0)\n",
    "b = np.delete(df[df.tract==5074].bin_value.values,0)\n",
    "\n",
    "cs = np.cumsum(a)\n",
    "bin_idx = np.searchsorted(cs, np.percentile(cs, [1,25,50,75,99]))\n",
    "print(np.percentile(cs, [1,25,50,75,99]))\n",
    "print(len(cs), bin_idx)\n",
    "\n",
    "print(len(b), b[bin_idx])\n",
    "\n",
    "plt.plot(b,a)\n",
    "plt.xlim(b[bin_idx[1]], b[bin_idx[3]])\n",
    "plt.plot(b,cs)\n",
    "#plt.xlim(b[bin_idx[1]], b[bin_idx[3]])\n",
    "plt.xlim(-100,100)\n",
    "\n",
    "mode_bin_idx = np.where(a==a.max())[0][0]\n",
    "print(a.max(), mode_bin_idx, b[mode_bin_idx])  # should use bin midpoints\n",
    "\n",
    "print(a)\n",
    "print(b)\n",
    "print(np.sum(a*b)/len(a)) # should use bin midpoints\n",
    "\n",
    "# See also https://www.statology.org/histogram-mean-median/\n",
    "# See also https://stackoverflow.com/questions/22638557/using-numpy-percentile-on-binned-data"
   ]
  },
  {
   "cell_type": "code",
   "execution_count": 17,
   "metadata": {},
   "outputs": [
    {
     "name": "stdout",
     "output_type": "stream",
     "text": [
      "SELECT TOP 10000 x.* \n",
      "           FROM dp01_dc2_catalogs.forced_photometry as x  \n",
      "           JOIN dp01_dc2_catalogs.object as obj  \n",
      "           ON x.objectId = obj.objectId  \n",
      "                   WHERE obj.tract=5074\n",
      "Job URL is https://data.lsst.cloud/api/tap/async/z2xrn5lpu6csseh6\n",
      "Job phase is COMPLETED\n",
      "CPU times: user 57.5 ms, sys: 5.92 ms, total: 63.4 ms\n",
      "Wall time: 2min 5s\n"
     ]
    }
   ],
   "source": [
    "%%time\n",
    "\n",
    "schema_name = 'dp01_dc2_catalogs'\n",
    "table_name = 'forced_photometry'\n",
    "table_full_name = \"\"\"%s.%s\"\"\" % (schema_name, table_name)\n",
    "tract = 5074\n",
    "\n",
    "query = \"\"\"SELECT TOP 10000 x.* \n",
    "           FROM %s as x  \n",
    "           JOIN %s.object as obj  \n",
    "           ON x.objectId = obj.objectId  \n",
    "                   WHERE obj.tract=%d\"\"\" % \\\n",
    "                (table_full_name, schema_name, tract)\n",
    "print(query)\n",
    "\n",
    "# First, submit the job.  This creates it but doesn't run the query yet.\n",
    "job = service.submit_job(query)\n",
    "\n",
    "# Here's the URL representing your query.  This is what you need to retrieve\n",
    "# the data again.\n",
    "print('Job URL is', job.url)\n",
    "\n",
    "# Now run the query.\n",
    "job.run()\n",
    "\n",
    "# Here, you can tell python to wait for the job to finish if you don't want to\n",
    "# run anything else while you are waiting.  Then we print out the final state.\n",
    "job.wait(phases=['COMPLETED', 'ERROR'])\n",
    "print('Job phase is', job.phase)\n"
   ]
  },
  {
   "cell_type": "code",
   "execution_count": 18,
   "metadata": {},
   "outputs": [
    {
     "name": "stdout",
     "output_type": "stream",
     "text": [
      "      coord_dec   coord_ra  g_base_ClassificationExtendedness_flag  \\\n",
      "0    -28.264173  71.812754                                   False   \n",
      "1    -28.264303  71.834121                                   False   \n",
      "2    -28.186785  71.767350                                   False   \n",
      "3    -28.186008  71.768788                                   False   \n",
      "4    -28.186948  71.805285                                   False   \n",
      "...         ...        ...                                     ...   \n",
      "9995 -28.102518  70.730147                                   False   \n",
      "9996 -28.103190  70.729316                                   False   \n",
      "9997 -28.099241  70.764468                                   False   \n",
      "9998 -28.090014  70.803675                                   False   \n",
      "9999 -28.098852  70.757428                                   False   \n",
      "\n",
      "      g_base_ClassificationExtendedness_value  g_base_InputCount_flag  \\\n",
      "0                                         1.0                   False   \n",
      "1                                         0.0                   False   \n",
      "2                                         1.0                   False   \n",
      "3                                         1.0                   False   \n",
      "4                                         1.0                   False   \n",
      "...                                       ...                     ...   \n",
      "9995                                      1.0                   False   \n",
      "9996                                      0.0                   False   \n",
      "9997                                      1.0                   False   \n",
      "9998                                      1.0                   False   \n",
      "9999                                      0.0                   False   \n",
      "\n",
      "      g_base_InputCount_flag_badCentroid  g_base_InputCount_flag_noInputs  \\\n",
      "0                                  False                            False   \n",
      "1                                  False                            False   \n",
      "2                                  False                            False   \n",
      "3                                  False                            False   \n",
      "4                                  False                            False   \n",
      "...                                  ...                              ...   \n",
      "9995                               False                            False   \n",
      "9996                               False                            False   \n",
      "9997                               False                            False   \n",
      "9998                               False                            False   \n",
      "9999                               False                            False   \n",
      "\n",
      "      g_base_InputCount_value  g_base_LocalBackground_flag  \\\n",
      "0                           8                        False   \n",
      "1                           4                        False   \n",
      "2                          23                        False   \n",
      "3                          23                        False   \n",
      "4                           7                        False   \n",
      "...                       ...                          ...   \n",
      "9995                       63                        False   \n",
      "9996                       63                        False   \n",
      "9997                       62                        False   \n",
      "9998                       60                        False   \n",
      "9999                       65                        False   \n",
      "\n",
      "      g_base_LocalBackground_flag_badCentroid  ...  \\\n",
      "0                                       False  ...   \n",
      "1                                       False  ...   \n",
      "2                                       False  ...   \n",
      "3                                       False  ...   \n",
      "4                                       False  ...   \n",
      "...                                       ...  ...   \n",
      "9995                                    False  ...   \n",
      "9996                                    False  ...   \n",
      "9997                                    False  ...   \n",
      "9998                                    False  ...   \n",
      "9999                                    False  ...   \n",
      "\n",
      "      z_modelfit_CModel_initial_flag_apCorr  \\\n",
      "0                                     False   \n",
      "1                                     False   \n",
      "2                                     False   \n",
      "3                                     False   \n",
      "4                                     False   \n",
      "...                                     ...   \n",
      "9995                                  False   \n",
      "9996                                  False   \n",
      "9997                                  False   \n",
      "9998                                  False   \n",
      "9999                                  False   \n",
      "\n",
      "      z_modelfit_CModel_initial_flag_badReference  \\\n",
      "0                                           False   \n",
      "1                                           False   \n",
      "2                                           False   \n",
      "3                                           False   \n",
      "4                                           False   \n",
      "...                                           ...   \n",
      "9995                                        False   \n",
      "9996                                        False   \n",
      "9997                                        False   \n",
      "9998                                        False   \n",
      "9999                                        False   \n",
      "\n",
      "      z_modelfit_CModel_initial_flag_numericError  \\\n",
      "0                                           False   \n",
      "1                                           False   \n",
      "2                                           False   \n",
      "3                                           False   \n",
      "4                                           False   \n",
      "...                                           ...   \n",
      "9995                                        False   \n",
      "9996                                        False   \n",
      "9997                                        False   \n",
      "9998                                        False   \n",
      "9999                                        False   \n",
      "\n",
      "      z_modelfit_CModel_initial_flux_inner  \\\n",
      "0                               394.425628   \n",
      "1                                20.960915   \n",
      "2                                 0.000000   \n",
      "3                                79.073739   \n",
      "4                                16.132354   \n",
      "...                                    ...   \n",
      "9995                             25.135359   \n",
      "9996                             12.848068   \n",
      "9997                              4.601454   \n",
      "9998                              2.582045   \n",
      "9999                           1168.231173   \n",
      "\n",
      "      z_modelfit_CModel_initial_instFlux  \\\n",
      "0                             422.780759   \n",
      "1                              27.026876   \n",
      "2                               0.000000   \n",
      "3                              89.307876   \n",
      "4                              18.237332   \n",
      "...                                  ...   \n",
      "9995                           27.563631   \n",
      "9996                           14.985610   \n",
      "9997                            4.864099   \n",
      "9998                            2.722555   \n",
      "9999                         1408.232700   \n",
      "\n",
      "      z_modelfit_CModel_initial_instFluxErr  z_modelfit_CModel_instFlux  \\\n",
      "0                                  4.813220                  457.580821   \n",
      "1                                  3.768679                   27.059988   \n",
      "2                                       NaN                    0.000000   \n",
      "3                                  2.806869                   93.486560   \n",
      "4                                  3.244562                   18.298421   \n",
      "...                                     ...                         ...   \n",
      "9995                               1.408507                   30.179808   \n",
      "9996                               1.168610                   14.982967   \n",
      "9997                               1.682941                    4.870585   \n",
      "9998                               1.789424                    2.751674   \n",
      "9999                               1.454748                 1408.510965   \n",
      "\n",
      "      z_modelfit_CModel_instFlux_inner  z_modelfit_CModel_instFluxErr  \\\n",
      "0                           396.406500                       5.209084   \n",
      "1                            20.974424                       3.772747   \n",
      "2                                  NaN                            NaN   \n",
      "3                            79.443100                       2.937333   \n",
      "4                            16.168423                       3.254944   \n",
      "...                                ...                            ...   \n",
      "9995                         25.385443                       1.538957   \n",
      "9996                         12.849754                       1.168403   \n",
      "9997                          4.595207                       1.686474   \n",
      "9998                          2.597168                       1.802337   \n",
      "9999                       1168.544692                       1.454956   \n",
      "\n",
      "      z_modelfit_CModel_objective  \n",
      "0                       15.078211  \n",
      "1                        6.556176  \n",
      "2                        0.000000  \n",
      "3                        4.604203  \n",
      "4                        5.415865  \n",
      "...                           ...  \n",
      "9995                     0.404809  \n",
      "9996                     0.113906  \n",
      "9997                     1.516526  \n",
      "9998                     2.980048  \n",
      "9999                     1.586048  \n",
      "\n",
      "[10000 rows x 747 columns]\n"
     ]
    }
   ],
   "source": [
    "results1 = job.fetch_result()\n",
    "df1 = results1.to_table().to_pandas()\n",
    "print(df1)\n"
   ]
  },
  {
   "cell_type": "code",
   "execution_count": 19,
   "metadata": {},
   "outputs": [
    {
     "data": {
      "text/plain": [
       "0       -0.444569\n",
       "1        0.648975\n",
       "2        0.574756\n",
       "3        0.049095\n",
       "4       -1.521310\n",
       "          ...    \n",
       "9995     0.156035\n",
       "9996    -0.027013\n",
       "9997    -6.438901\n",
       "9998    43.703978\n",
       "9999     0.004183\n",
       "Name: i_base_SdssShape_xy, Length: 10000, dtype: float64"
      ]
     },
     "execution_count": 19,
     "metadata": {},
     "output_type": "execute_result"
    }
   ],
   "source": [
    "df1.i_base_SdssShape_xy"
   ]
  },
  {
   "cell_type": "code",
   "execution_count": 20,
   "metadata": {},
   "outputs": [
    {
     "name": "stdout",
     "output_type": "stream",
     "text": [
      "1581.3912174407158\n",
      "1.5813912174407159\n",
      "0.1990393225305194\n",
      "0\n"
     ]
    },
    {
     "data": {
      "text/plain": [
       "0"
      ]
     },
     "execution_count": 20,
     "metadata": {},
     "output_type": "execute_result"
    }
   ],
   "source": [
    "import math\n",
    "print(df1.i_base_SdssShape_xy.std())\n",
    "print(0.001*df1.i_base_SdssShape_xy.std())\n",
    "print(math.log10(0.001*df1.i_base_SdssShape_xy.std()))\n",
    "print(math.floor(math.log10(0.001*df1.i_base_SdssShape_xy.std())))\n",
    "math.floor(math.log10(0.001*df1.i_base_SdssShape_xy.std()))"
   ]
  },
  {
   "cell_type": "code",
   "execution_count": 21,
   "metadata": {},
   "outputs": [],
   "source": [
    "def remove_outlier_IQR(df):\n",
    "    Q1=df.quantile(0.25)\n",
    "    Q3=df.quantile(0.75)\n",
    "    IQR=Q3-Q1\n",
    "    df_final=df[~((df<(Q1-1.5*IQR)) | (df>(Q3+1.5*IQR)))]\n",
    "    return df_final"
   ]
  },
  {
   "cell_type": "code",
   "execution_count": 22,
   "metadata": {},
   "outputs": [
    {
     "name": "stdout",
     "output_type": "stream",
     "text": [
      "-69849.50309991227 55351.39584040755\n",
      "-3.7949075208704084 3.8150367001615404\n",
      "1.3277576185873574\n",
      "0.013277576185873574\n",
      "-1.8768811979480218\n",
      "-2\n"
     ]
    }
   ],
   "source": [
    "xxx1 = remove_outlier_IQR(df1.i_base_SdssShape_xy)\n",
    "print(df1.i_base_SdssShape_xy.min(), df1.i_base_SdssShape_xy.max())\n",
    "print(xxx1.min(), xxx1.max())\n",
    "print(xxx1.std())\n",
    "print(0.01*xxx1.std())\n",
    "print(math.log10(0.01*xxx1.std()))\n",
    "print(math.floor(math.log10(0.01*xxx1.std())))\n",
    "math.floor(math.log10(0.01*xxx1.std()))\n",
    "ndigits = -1*math.floor(math.log10(0.01*xxx1.std()))"
   ]
  },
  {
   "cell_type": "code",
   "execution_count": 23,
   "metadata": {},
   "outputs": [
    {
     "name": "stdout",
     "output_type": "stream",
     "text": [
      "\n",
      "        SELECT obj.tract, ROUND(fp.i_base_SdssShape_xy, 2) as bin_value, COUNT(*)  \n",
      "        FROM dp01_dc2_catalogs.forced_photometry as fp  \n",
      "        JOIN dp01_dc2_catalogs.object as obj  \n",
      "        ON fp.objectId = obj.objectId  \n",
      "        GROUP BY tract, bin_value\n",
      "        ORDER BY tract, bin_value ASC\n",
      "        \n",
      "Job URL is https://data.lsst.cloud/api/tap/async/w87o3hwu15su8chy\n",
      "Job phase is COMPLETED\n",
      "CPU times: user 85 ms, sys: 3.1 ms, total: 88.1 ms\n",
      "Wall time: 4min 28s\n"
     ]
    }
   ],
   "source": [
    "%%time\n",
    "\n",
    "schema_name = 'dp01_dc2_catalogs'\n",
    "table_name = 'forced_photometry'\n",
    "table_full_name = \"\"\"%s.%s\"\"\" % (schema_name, table_name)\n",
    "column = 'i_base_SdssShape_xy'\n",
    "tract = 2723\n",
    "\n",
    "# From Gaia webpage:\n",
    "#SELECT ROUND(SQRT(pmra*pmra + pmdec*pmdec), 0) AS muTot, COUNT(*)\n",
    "#FROM gaiadr1.tgas_source\n",
    "#GROUP BY muTot\n",
    "#ORDER BY muTot DESC\n",
    "\n",
    "#query = \"\"\"\n",
    "#        SELECT ROUND(fp.i_base_SdssShape_xy, 0) as bin, COUNT(*)  \n",
    "#        FROM dp01_dc2_catalogs.forced_photometry as fp  \n",
    "#        JOIN dp01_dc2_catalogs.object as obj  \n",
    "#        ON fp.objectId = obj.objectId  \n",
    "#        WHERE obj.tract=2723  \n",
    "#        GROUP BY bin\n",
    "#        ORDER BY bin ASC\n",
    "#        \"\"\"\n",
    "\n",
    "\n",
    "#query = \"\"\"\n",
    "#        SELECT MIN(fp.i_base_SdssShape_xy), MAX(fp.i_base_SdssShape_xy) \n",
    "#        FROM dp01_dc2_catalogs.forced_photometry as fp  \n",
    "#        \"\"\"\n",
    "#min=-9.939587e+07  \n",
    "#max=1.476328e+07\n",
    "\n",
    "\n",
    "query = \"\"\"\n",
    "        SELECT obj.tract, ROUND(fp.i_base_SdssShape_xy, %s) as bin_value, COUNT(*)  \n",
    "        FROM dp01_dc2_catalogs.forced_photometry as fp  \n",
    "        JOIN dp01_dc2_catalogs.object as obj  \n",
    "        ON fp.objectId = obj.objectId  \n",
    "        GROUP BY tract, bin_value\n",
    "        ORDER BY tract, bin_value ASC\n",
    "        \"\"\" % (ndigits)\n",
    "\n",
    "\n",
    "#with total as (select count(*) as cnt from employee_salary)\n",
    "#select bucket, sum(cnt) over (order by bucket) / total.cnt from (\n",
    "#    select width_bucket(salary, 70000, 140000, 20) as bucket, \n",
    "#           count(*) as cnt\n",
    "#    from employee_salary\n",
    "#    group by bucket \n",
    "#    order by bucket) x;\n",
    "\n",
    "\n",
    "#query = \"\"\"\n",
    "#        SELECT x.* \n",
    "#        FROM %s as x  \n",
    "#        JOIN %s.object as obj  \n",
    "#        ON x.objectId = obj.objectId  \n",
    "#        WHERE obj.tract=%d \n",
    "#        \"\"\" % (table_full_name, schema_name, tract)\n",
    "\n",
    "print(query)\n",
    "\n",
    " # First, submit the job.  This creates it but doesn't run the query yet.\n",
    "job = service.submit_job(query)\n",
    "\n",
    "# Here's the URL representing your query.  This is what you need to retrieve\n",
    "# the data again.\n",
    "print('Job URL is', job.url)\n",
    "\n",
    "# Now run the query.\n",
    "job.run()\n",
    "\n",
    "# Here, you can tell python to wait for the job to finish if you don't want to\n",
    "# run anything else while you are waiting.  Then we print out the final state.\n",
    "job.wait(phases=['COMPLETED', 'ERROR'])\n",
    "print('Job phase is', job.phase)\n",
    "\n",
    "\n",
    "    "
   ]
  },
  {
   "cell_type": "code",
   "execution_count": 24,
   "metadata": {},
   "outputs": [
    {
     "name": "stdout",
     "output_type": "stream",
     "text": [
      "         tract  bin_value  COUNT\n",
      "0         2723        NaN      2\n",
      "1         2723    -295.47      1\n",
      "2         2723    -176.48      1\n",
      "3         2723     -34.12      1\n",
      "4         2723     -28.00      1\n",
      "...        ...        ...    ...\n",
      "7321980   5074  161580.77      1\n",
      "7321981   5074  166285.44      1\n",
      "7321982   5074  180611.83      1\n",
      "7321983   5074  225044.94      1\n",
      "7321984   5074  233338.85      1\n",
      "\n",
      "[7321985 rows x 3 columns]\n"
     ]
    }
   ],
   "source": [
    "results = job.fetch_result()\n",
    "df = results.to_table().to_pandas()\n",
    "print(df)"
   ]
  },
  {
   "cell_type": "code",
   "execution_count": null,
   "metadata": {},
   "outputs": [],
   "source": []
  },
  {
   "cell_type": "code",
   "execution_count": null,
   "metadata": {},
   "outputs": [],
   "source": []
  },
  {
   "cell_type": "code",
   "execution_count": null,
   "metadata": {},
   "outputs": [],
   "source": []
  },
  {
   "cell_type": "code",
   "execution_count": null,
   "metadata": {},
   "outputs": [],
   "source": []
  },
  {
   "cell_type": "code",
   "execution_count": 25,
   "metadata": {},
   "outputs": [
    {
     "data": {
      "text/plain": [
       "array([[<AxesSubplot:title={'center':'i_base_SdssShape_xy'}>]],\n",
       "      dtype=object)"
      ]
     },
     "execution_count": 25,
     "metadata": {},
     "output_type": "execute_result"
    },
    {
     "data": {
      "image/png": "[encoded data removed]",
      "text/plain": [
       "<Figure size 432x288 with 1 Axes>"
      ]
     },
     "metadata": {
      "needs_background": "light"
     },
     "output_type": "display_data"
    }
   ],
   "source": [
    "df1.hist('i_base_SdssShape_xy')"
   ]
  },
  {
   "cell_type": "code",
   "execution_count": null,
   "metadata": {},
   "outputs": [],
   "source": []
  },
  {
   "cell_type": "code",
   "execution_count": null,
   "metadata": {},
   "outputs": [],
   "source": []
  },
  {
   "cell_type": "code",
   "execution_count": 26,
   "metadata": {},
   "outputs": [],
   "source": [
    "raise StopExecution"
   ]
  },
  {
   "cell_type": "code",
   "execution_count": null,
   "metadata": {},
   "outputs": [],
   "source": [
    "# And delete the query once it is done...\n",
    "job.delete()"
   ]
  },
  {
   "cell_type": "markdown",
   "metadata": {},
   "source": [
    "These tests take a long time (c. 16 hours).  First perform asynchronous queries on for each of the tracts save the URLs containing the results in a CSV file (in case the job fails; so no need to start completely from scratch.)"
   ]
  },
  {
   "cell_type": "code",
   "execution_count": null,
   "metadata": {},
   "outputs": [],
   "source": [
    "%%time\n",
    "\n",
    "# The job urls are saved in a file...  just in case...\n",
    "urls_file_name = \"\"\"%s.%s.urls.csv\"\"\" % (baseName, table_name)\n",
    "urls_file_name = os.path.join(outputDir,urls_file_name)\n",
    "print(urls_file_name)\n",
    "\n",
    "n_tracts = len(tract_list)\n",
    "\n",
    "\n",
    "# If you have already run this step and haven't run the clean-up step, \n",
    "#  you probably want to skip this step ...\n",
    "if do_query_step==True:\n",
    "\n",
    "    fout = open(urls_file_name, 'w')\n",
    "    outputLine = 'tract,patch,url\\n'\n",
    "    fout.write(outputLine)\n",
    "    fout.close()\n",
    "\n",
    "    print(\"\"\"The list of job URLs is being saved in %s, just in case the notebook crashes\"\"\" % urls_file_name)\n",
    "\n",
    "    for tract in tract_list:\n",
    "\n",
    "        # restart:\n",
    "        #if tract < 2897: continue\n",
    "\n",
    "        job = {}\n",
    "\n",
    "        i_tract = tract_list.index(tract) + 1\n",
    "        print(\"\"\"Tract %d  (%d/%d) \"\"\" % (tract, i_tract, n_tracts))\n",
    "        \n",
    "        df_patches = df_tracts_patches[(df_tracts_patches['tract'] == tract)]\n",
    "        patch_list = df_patches['patch'].unique().tolist()\n",
    "        patch_list.sort()\n",
    "        n_patches = len(patch_list)\n",
    "        \n",
    "        for patch in patch_list:\n",
    "            \n",
    "            now0=datetime.now()\n",
    "\n",
    "            i_patch = patch_list.index(patch) + 1\n",
    "            print(\"\"\"    patch %s  (%d/%d) \"\"\" % (patch, i_patch, n_patches))\n",
    "\n",
    "        \n",
    "            now0=datetime.now()\n",
    "            query = \"\"\"\n",
    "                    SELECT x.* \n",
    "                    FROM %s as x  \n",
    "                    JOIN %s.object as obj  \n",
    "                    ON x.objectId = obj.objectId  \n",
    "                    WHERE obj.tract=%d and obj.patch='%s'\n",
    "                    \"\"\" % (table_full_name, schema_name, tract, patch)\n",
    "            print(query)\n",
    "\n",
    "            # First, submit the job.  This creates it but doesn't run the query yet.\n",
    "            job[patch] = service.submit_job(query)\n",
    "\n",
    "            # Here's the URL representing your query.  This is what you need to retrieve\n",
    "            # the data again.\n",
    "            print('Job URL is', job[patch].url)\n",
    "    \n",
    "            # Save the tract and URL to urls_file_name...\n",
    "            fout = open(urls_file_name, 'a')\n",
    "            tmp_patch = patch.replace(',','_')\n",
    "            outputLine = \"\"\"%d,'%s',%s\\n\"\"\" % (tract, tmp_patch, str(job[patch].url))\n",
    "            fout.write(outputLine)\n",
    "            fout.close()\n",
    "\n",
    "            # Here you can see the job's phase, which is PENDING.\n",
    "            print('Job phase is', job[patch].phase)\n",
    "\n",
    "            # Now, run the query.\n",
    "            job[patch].run()\n",
    "\n",
    "            # Here, you can tell python to wait for the job to finish if you don't want to\n",
    "            # run anything else while you are waiting.  Then we print out the final state.\n",
    "            #job[patch].wait(phases=['COMPLETED', 'ERROR'])\n",
    "            #print('Job phase is', job[patch].phase)\n",
    "\n",
    "            # Here's a helpful function that will raise an exception if\n",
    "            # your query had an unfortunate incident.\n",
    "            #job[patch].raise_if_error()\n",
    "            #if job[patch].phase == 'ERROR':\n",
    "            #    print('ERROR!:  QUERY FAILED!')\n",
    "\n",
    "            now1=datetime.now()\n",
    "            print(\"Current time:\", now1)\n",
    "            print(\"Total time:\", now1-now0)\n",
    "            print(\"\")\n",
    "\n",
    "\n",
    "        print(datetime.now())\n",
    "        someExecuting = 9999\n",
    "        while (someExecuting > 0):\n",
    "            someExecuting = 0\n",
    "            for patch in patch_list:\n",
    "                print(patch, job[patch].phase)\n",
    "                if job[patch].phase == 'EXECUTING':\n",
    "                    someExecuting = someExecuting+1\n",
    "            print(someExecuting)\n",
    "            time.sleep(60.)\n",
    "            print(datetime.now())\n",
    "            \n",
    "            \n",
    "        # If we are debugging, let's exit this loop after doing 3 tracts...\n",
    "        if debug == True:\n",
    "            if i_tract == 3: break\n",
    "            #if i_tract == 1: break"
   ]
  },
  {
   "cell_type": "code",
   "execution_count": null,
   "metadata": {},
   "outputs": [],
   "source": [
    "# Reset pandas display.max_colwidth to large number; otherwise URL name is truncated...\n",
    "pd.set_option(\"display.max_colwidth\", 10000)\n",
    "#df_urls = pd.read_csv(urls_file_name, index_col='tract', )\n",
    "df_urls = pd.read_csv(urls_file_name)\n",
    "\n",
    "if verbose > 1:\n",
    "    print(df_urls.head(5))\n",
    "    print(\".\\n.\\n.\")\n",
    "    print(df_urls.tail(5))\n",
    "df_urls"
   ]
  },
  {
   "cell_type": "code",
   "execution_count": null,
   "metadata": {},
   "outputs": [],
   "source": [
    "\n",
    "print(datetime.now())\n",
    "while True:\n",
    "    someExecuting = 0\n",
    "    for patch in patch_list:\n",
    "        print(patch, job[patch].phase)\n",
    "        if job[patch].phase == 'EXECUTING':\n",
    "            someExecuting = someExecuting+1\n",
    "    print(someExecuting)\n",
    "    time.sleep(60.)\n",
    "    print(datetime.now())\n",
    "    if someExecuting == 0:\n",
    "        break"
   ]
  },
  {
   "cell_type": "code",
   "execution_count": null,
   "metadata": {},
   "outputs": [],
   "source": [
    "#raise StopExecution"
   ]
  },
  {
   "cell_type": "markdown",
   "metadata": {},
   "source": [
    "### Run analysis on returned results for each tract.  Save results in output file..."
   ]
  },
  {
   "cell_type": "code",
   "execution_count": null,
   "metadata": {},
   "outputs": [],
   "source": [
    "%%time\n",
    "\n",
    "# Create a CSV file to output results from all the tracts...\n",
    "metaOutputFile = \"\"\"%s.%s.csv\"\"\" % (baseName, table_name)\n",
    "metaOutputFile = os.path.join(outputDir, metaOutputFile)\n",
    "\n",
    "if do_analysis_step==True:\n",
    "\n",
    "    # Write out header line to the metaOutputFile...\n",
    "    fmout = open(metaOutputFile, 'w')\n",
    "    metaOutputLine = \"\"\"tract,column,1%,50%,99%,n_nan,n_tot\\n\"\"\"\n",
    "    fmout.write(metaOutputLine)\n",
    "    fmout.close()\n",
    "\n",
    "    # Loop over tracts in tract_list...\n",
    "    for tract in tract_list:\n",
    "    \n",
    "        i_tract = tract_list.index(tract) + 1\n",
    "        print(\"\"\"Tract %d  (%d/%d) \"\"\" % (tract, i_tract, n_tracts))\n",
    "        \n",
    "        #if tract < 4644:\n",
    "        #    continue\n",
    "\n",
    "        outputFile = \"\"\"%s.%s.%d.txt\"\"\" % (baseName, table_name, tract)\n",
    "        outputFile = os.path.join(outputDir, outputFile)\n",
    "    \n",
    "        try:\n",
    "            # Grab results...\n",
    "            job_url = df_urls.loc[tract, 'url']\n",
    "            print(job_url)\n",
    "            retrieved_job = retrieve_query(job_url)\n",
    "            results = retrieved_job.fetch_result()\n",
    "    \n",
    "            # Convert the results a Pandas DataFrame...\n",
    "            df = results.to_table().to_pandas()\n",
    "\n",
    "            # Output column titles...\n",
    "            outputLine = '                   column\\t        1%         50%         99%       n(Nan)        ntot\\n'\n",
    "            outputLine = outputLine + \\\n",
    "                         '                   ------\\t        --         ---         ---       ------        ----\\n'\n",
    "            fout = open(outputFile, 'w')\n",
    "            fout.write(outputLine)\n",
    "            fout.close()\n",
    "    \n",
    "            # Loop over each column, calculating and outputting the stats...\n",
    "            for colname in df.columns:\n",
    "                outputLine1 = \"%25s:\\t\" % (colname)\n",
    "                metaOutputLine1 = \"%d,%s,\" % (tract, colname)\n",
    "                try:\n",
    "                    x = df[colname].quantile([0.01, 0.50, 0.99])\n",
    "                    outputLine2 = \"%10.4g  %10.4g  %10.4g\" % (x[0.01], x[0.50], x[0.99])\n",
    "                    metaOutputLine2 = \"%.4g,%.4g,%.4g,\" % (x[0.01], x[0.50], x[0.99])\n",
    "                except:\n",
    "                    outputLine2 = \"       ...         ...         ...\"\n",
    "                    metaOutputLine2 = \",,,\"\n",
    "                ntot = len(df.index)\n",
    "                ntot_nan = df[colname].isna().sum()\n",
    "                outputLine3 = \"          %d          %d\" % (ntot_nan, ntot)\n",
    "                metaOutputLine3 = \"%d,%d\" % (ntot_nan, ntot)\n",
    "                outputLine = outputLine1+outputLine2+outputLine3+'\\n'\n",
    "                metaOutputLine = metaOutputLine1+metaOutputLine2+metaOutputLine3+'\\n'\n",
    "                fout = open(outputFile, 'a')\n",
    "                fout.write(outputLine)\n",
    "                fout.close()\n",
    "                fmout = open(metaOutputFile, 'a')\n",
    "                fmout.write(metaOutputLine)\n",
    "                fmout.close()\n",
    "\n",
    "            # Clear memory, make space\n",
    "            del df, results; gc.collect()   \n",
    "\n",
    "        except:\n",
    "        \n",
    "            print(\"FAILED\")\n",
    "            outputLine = \"FAILED\\n\"\n",
    "            fout = open(outputFile, 'w')\n",
    "            fout.write(outputLine)\n",
    "            fout.close()\n",
    "            \n",
    "        #break\n"
   ]
  },
  {
   "cell_type": "code",
   "execution_count": null,
   "metadata": {},
   "outputs": [],
   "source": [
    "meta_df = pd.read_csv(metaOutputFile)\n",
    "meta_df['f_nan'] = meta_df['n_nan']/meta_df['n_tot']\n",
    "meta_df"
   ]
  },
  {
   "cell_type": "code",
   "execution_count": null,
   "metadata": {},
   "outputs": [],
   "source": [
    "#colname = 'blendedness'\n",
    "#status = makeTractSanityPlots(meta_df, colname, table_full_name, nbins=50)"
   ]
  },
  {
   "cell_type": "code",
   "execution_count": null,
   "metadata": {},
   "outputs": [],
   "source": [
    "#meta_df[meta_df['column']==\"blendedness\"].hist(['99%'])"
   ]
  },
  {
   "cell_type": "code",
   "execution_count": null,
   "metadata": {},
   "outputs": [],
   "source": [
    "colnames_set = set(meta_df.column)\n",
    "colnames_list = (list(colnames_set))\n",
    "colnames_list.sort()\n",
    "\n",
    "for colname in colnames_list:\n",
    "    print(colname+':  ', end = '')\n",
    "    try:\n",
    "        outputFileName = \"\"\"%s.%s.%s.png\"\"\" % (baseName, table_full_name, colname)\n",
    "        print(outputFileName, end = '')\n",
    "        outputFileName = os.path.join(outputDir, outputFileName)\n",
    "        status = makeTractSanityPlots(meta_df, colname, table_full_name, outputFileName, nbins=50)\n",
    "    except:\n",
    "        print(\"   FAILED\", end = '')\n",
    "    print('')"
   ]
  },
  {
   "cell_type": "code",
   "execution_count": null,
   "metadata": {},
   "outputs": [],
   "source": [
    "#del meta_df"
   ]
  },
  {
   "cell_type": "markdown",
   "metadata": {},
   "source": [
    "### Final Cleanup "
   ]
  },
  {
   "cell_type": "markdown",
   "metadata": {},
   "source": [
    "Let's delete all the leftover asynchronous job results."
   ]
  },
  {
   "cell_type": "code",
   "execution_count": null,
   "metadata": {},
   "outputs": [],
   "source": [
    "# Cleanup for object results...\n",
    "\n",
    "if do_final_cleanup == True:\n",
    "\n",
    "    for tract in tract_list:\n",
    "\n",
    "        i_tract = tract_list.index(tract) + 1\n",
    "        \n",
    "        try:\n",
    "            job_url = df_urls.loc[tract, 'url']\n",
    "            retrieved_job = retrieve_query(job_url)\n",
    "            retrieved_job.delete()\n",
    "            print(\"\"\"Tract %d  (%d/%d):  JOB DELETED (%s)\"\"\" % (tract, i_tract, n_tracts, job_url))\n",
    "        \n",
    "        except:\n",
    "            try:\n",
    "                print(\"\"\"Tract %d  (%d/%d):  JOB NOT FOUND (%s)\"\"\" % (tract, i_tract, n_tracts, job_url))\n",
    "            except:\n",
    "                print(\"\"\"Tract %d  (%d/%d):  JOB NOT FOUND\"\"\" % (tract, i_tract, n_tracts))"
   ]
  },
  {
   "cell_type": "code",
   "execution_count": null,
   "metadata": {},
   "outputs": [],
   "source": []
  }
 ],
 "metadata": {
  "kernelspec": {
   "display_name": "LSST",
   "language": "python",
   "name": "lsst"
  },
  "language_info": {
   "codemirror_mode": {
    "name": "ipython",
    "version": 3
   },
   "file_extension": ".py",
   "mimetype": "text/x-python",
   "name": "python",
   "nbconvert_exporter": "python",
   "pygments_lexer": "ipython3",
   "version": "3.8.8"
  }
 },
 "nbformat": 4,
 "nbformat_minor": 4
}
