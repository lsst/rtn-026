{
 "cells": [
  {
   "cell_type": "markdown",
   "metadata": {},
   "source": [
    "# TAP_verify_DP0.1-general\n",
    "\n",
    "<br>Owner: **Douglas Tucker** ([@douglasleetucker](https://github.com/LSSTScienceCollaborations/StackClub/issues/new?body=@douglasleetucker))\n",
    "<br>Updated for DC2 by:   Douglas Tucker  following in part work for DESC by Yao-Yuan Mao (@yymao) and Johann Cohen-Tanugi (@johannct)\n",
    "<br>Last Verified to Run: **2021-08-17**\n",
    "<br>Verified Stack Release: **w_2021_25**\n",
    "\n",
    "### Objectives\n",
    "\n",
    "This notebook is meant to run tests of the basic content of DP0.1 TAPserver tables in the `dp01_dc2_catalogs` schema on the IDF.\n",
    "\n",
    "### Logistics\n",
    "\n",
    "This notebook is intended to be runnable on `data.lsst.cloud` from a local git clone of https://github.com/LSSTScienceCollaborations/StackClub.\n"
   ]
  },
  {
   "cell_type": "code",
   "execution_count": 1,
   "metadata": {},
   "outputs": [],
   "source": [
    "# https://jira.lsstcorp.org/browse/PREOPS-473\n",
    "# \n",
    "# create a separate notebook \"for general consumption\" (with more notes).\n",
    "# More important now than comparing against parquet files.\n",
    "# \"Here's a description of what the DB looks like. -- a good product to hand off.\"\n",
    "# Maybe do some of this within the SQL query:  can SQL test for NaN's?\"\n",
    "# Point towards the data, not so much the DB mechanics.\n",
    "# Cols:  max, min, 1%, 99%\n",
    "# qserv has a data return limit of 5GB; so beware!"
   ]
  },
  {
   "cell_type": "markdown",
   "metadata": {},
   "source": [
    "### Set Up"
   ]
  },
  {
   "cell_type": "code",
   "execution_count": 2,
   "metadata": {},
   "outputs": [],
   "source": [
    "# Import general python packages\n",
    "import numpy as np\n",
    "import pandas as pd\n",
    "import os\n",
    "from datetime import datetime\n",
    "import gc"
   ]
  },
  {
   "cell_type": "code",
   "execution_count": 3,
   "metadata": {},
   "outputs": [],
   "source": [
    "# Ignore warnings\n",
    "import warnings\n",
    "warnings.filterwarnings('ignore')"
   ]
  },
  {
   "cell_type": "code",
   "execution_count": 4,
   "metadata": {},
   "outputs": [
    {
     "name": "stderr",
     "output_type": "stream",
     "text": [
      "Patching auth into notebook.base.handlers.IPythonHandler(notebook.base.handlers.AuthenticatedHandler) -> IPythonHandler(jupyterhub.singleuser.mixins.HubAuthenticatedHandler, notebook.base.handlers.AuthenticatedHandler)\n"
     ]
    }
   ],
   "source": [
    "# Import the Rubin TAP service utilities\n",
    "from rubin_jupyter_utils.lab.notebook import get_tap_service, retrieve_query, get_catalog\n",
    "\n",
    "# Get an instance of the TAP service\n",
    "service = get_tap_service()\n",
    "assert service is not None\n",
    "assert service.baseurl == \"https://data.lsst.cloud/api/tap\""
   ]
  },
  {
   "cell_type": "markdown",
   "metadata": {},
   "source": [
    "### User Input"
   ]
  },
  {
   "cell_type": "code",
   "execution_count": 11,
   "metadata": {},
   "outputs": [],
   "source": [
    "# Which table are we interested in for this notebook?\n",
    "schema_name = 'dp01_dc2_catalogs'\n",
    "\n",
    "# Output directory and output file basename info\n",
    "outputDir = '/home/douglasleetucker/WORK'\n",
    "baseName = 'TAP_verify_DP01'\n",
    "\n",
    "# Debug option for quick results for testing purposes:\n",
    "#    True:  only runs over a few tracts of data\n",
    "#    False:  runs over all tracts available\n",
    "debug = True\n",
    "\n",
    "# Do final cleanup?\n",
    "do_final_cleanup = False\n",
    "\n",
    "# Level of output to screen (0, 1, 2, ...)\n",
    "verbose = 2"
   ]
  },
  {
   "cell_type": "markdown",
   "metadata": {},
   "source": [
    "### Basic Tests"
   ]
  },
  {
   "cell_type": "markdown",
   "metadata": {},
   "source": [
    "Since some of the following queries take time, let's measure how long it takes to complete each query cell.  We will use `%%time` to estimate processor and wall clock time, and `datetime.now()` to estimate the total time to send the query and download its results."
   ]
  },
  {
   "cell_type": "code",
   "execution_count": 58,
   "metadata": {},
   "outputs": [
    {
     "name": "stdout",
     "output_type": "stream",
     "text": [
      "SELECT table_name FROM TAP_SCHEMA.tables WHERE schema_name='dp01_dc2_catalogs'\n",
      "['dp01_dc2_catalogs.forced_photometry', 'dp01_dc2_catalogs.object', 'dp01_dc2_catalogs.position', 'dp01_dc2_catalogs.reference', 'dp01_dc2_catalogs.truth_match']\n",
      "CPU times: user 17 ms, sys: 0 ns, total: 17 ms\n",
      "Wall time: 60.7 ms\n"
     ]
    }
   ],
   "source": [
    "%%time\n",
    "now0=datetime.now()\n",
    "\n",
    "query = \"\"\"SELECT table_name FROM TAP_SCHEMA.tables WHERE schema_name=%s\"\"\" % (\"\\'\"+schema_name+\"\\'\")\n",
    "print(query)\n",
    "results = service.search(query)\n",
    "df = results.to_table().to_pandas()\n",
    "table_full_name_list = df['table_name'].tolist()\n",
    "print(table_full_name_list)"
   ]
  },
  {
   "cell_type": "code",
   "execution_count": 59,
   "metadata": {},
   "outputs": [
    {
     "name": "stdout",
     "output_type": "stream",
     "text": [
      "     dp01_dc2_catalogs.forced_photometry:  147088445\n",
      "                dp01_dc2_catalogs.object:  147088478\n",
      "              dp01_dc2_catalogs.position:  147088445\n",
      "             dp01_dc2_catalogs.reference:  147088445\n",
      "           dp01_dc2_catalogs.truth_match:  765823615\n",
      "Total time: 0:05:36.804264\n",
      "CPU times: user 58.8 ms, sys: 4.07 ms, total: 62.8 ms\n",
      "Wall time: 5min 36s\n"
     ]
    }
   ],
   "source": [
    "%%time\n",
    "now0=datetime.now()\n",
    "\n",
    "for table_full_name in table_full_name_list:\n",
    "    \n",
    "    query = \"\"\"SELECT COUNT(*) FROM %s\"\"\" % (table_full_name)\n",
    "    results = service.search(query)\n",
    "    df = results.to_table().to_pandas()\n",
    "    ntot = df['COUNT'].loc[0]\n",
    "    outputLine = \"\"\"%40s:  %d\"\"\" % (table_full_name, ntot)\n",
    "    print(outputLine)\n",
    "\n",
    "now1=datetime.now()\n",
    "print(\"Total time:\", now1-now0)"
   ]
  }
 ],
 "metadata": {
  "kernelspec": {
   "display_name": "LSST",
   "language": "python",
   "name": "lsst"
  },
  "language_info": {
   "codemirror_mode": {
    "name": "ipython",
    "version": 3
   },
   "file_extension": ".py",
   "mimetype": "text/x-python",
   "name": "python",
   "nbconvert_exporter": "python",
   "pygments_lexer": "ipython3",
   "version": "3.8.8"
  }
 },
 "nbformat": 4,
 "nbformat_minor": 4
}
